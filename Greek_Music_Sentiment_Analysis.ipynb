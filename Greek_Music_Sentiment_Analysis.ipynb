{
  "nbformat": 4,
  "nbformat_minor": 0,
  "metadata": {
    "colab": {
      "name": "Greek Music Sentiment Analysis",
      "provenance": [],
      "collapsed_sections": [],
      "authorship_tag": "ABX9TyO01Y3aTJaiJTzTk143wt/X",
      "include_colab_link": true
    },
    "kernelspec": {
      "name": "python3",
      "display_name": "Python 3"
    },
    "language_info": {
      "name": "python"
    }
  },
  "cells": [
    {
      "cell_type": "markdown",
      "metadata": {
        "id": "view-in-github",
        "colab_type": "text"
      },
      "source": [
        "<a href=\"https://colab.research.google.com/github/mzouros/dl_gmsa/blob/main/Greek_Music_Sentiment_Analysis.ipynb\" target=\"_parent\"><img src=\"https://colab.research.google.com/assets/colab-badge.svg\" alt=\"Open In Colab\"/></a>"
      ]
    },
    {
      "cell_type": "markdown",
      "metadata": {
        "id": "XtSaV8sAn9jX"
      },
      "source": [
        "Run Colab localy\n",
        "\n",
        "jupyter notebook \\\n",
        "--NotebookApp.allow_origin='https://colab.research.google.com' \\\n",
        "--port=8888 \\\n",
        "--NotebookApp.port_retries=0"
      ]
    },
    {
      "cell_type": "code",
      "metadata": {
        "id": "nxSK36krk4Ru"
      },
      "source": [
        "# Imports\n",
        "\n",
        "import os\n",
        "import glob\n",
        "import spotipy\n",
        "from spotipy.oauth2 import SpotifyClientCredentials\n",
        "import pandas as pd\n",
        "import numpy as np\n",
        "import matplotlib.pyplot as plt\n",
        "import seaborn as sns; sns.set()\n",
        "\n",
        "# .mp3 to .wav conversion\n",
        "from pydub import AudioSegment\n",
        "\n",
        "%matplotlib inline"
      ],
      "execution_count": 25,
      "outputs": []
    },
    {
      "cell_type": "code",
      "metadata": {
        "id": "onXq2h8GygRe"
      },
      "source": [
        "# Dataset size\n",
        "\n",
        "mp3Path = '/home/mike/Artificial Intelligence MSc/2nd Semester/4. Deep Learning/Giannakopoulos/Exercises/MP3'\n",
        "mp3Count = 0\n",
        "wmaCount = 0\n",
        "flacCount = 0\n",
        "datasetAlbumNames = [] \n",
        "datasetTrackNames = []\n",
        "data = []\n",
        "dataset = []\n",
        "\n",
        "for folder in os.listdir(mp3Path):\n",
        "  trackCount = 0\n",
        "  datasetAlbumNames.append(folder)\n",
        "  songPath = mp3Path + '/' + folder\n",
        "  for song in os.listdir(songPath):\n",
        "    if song.lower().endswith(\".mp3\".lower()):\n",
        "      # print(os.path.join(songPath, song))\n",
        "      mp3Count += 1\n",
        "    # for .wma  \n",
        "    else:\n",
        "      # print(os.path.join(songPath, song))\n",
        "      wmaCount += 1\n",
        "    datasetTrackNames.append(os.path.splitext(song)[0])\n",
        "    trackCount += 1\n",
        "  print(folder, trackCount)\n",
        "  data = [folder, trackCount]\n",
        "  dataset.append(data)\n",
        "print(\"\")\n",
        "print(\"Total songs found:\", mp3Count+wmaCount+flacCount)\n",
        "\n",
        "# Export to .csv\n",
        "dataset.sort()\n",
        "df = pd.DataFrame(dataset, columns = ['artist_name', 'number_of_songs'])\n",
        "df.to_csv(\"Final_Dataset.csv\", sep = ',')"
      ],
      "execution_count": null,
      "outputs": []
    },
    {
      "cell_type": "code",
      "metadata": {
        "id": "A0Y_rui_gvTS"
      },
      "source": [
        "# Spotify Developer Credentials\n",
        "\n",
        "client_id = 'f1947444cbe9421e815b74a771326877'\n",
        "client_secret = 'a1099b60916440aabc9a24f1583bb73e'\n",
        "\n",
        "client_credentials_manager = SpotifyClientCredentials(client_id, client_secret)\n",
        "sp = spotipy.Spotify(client_credentials_manager=client_credentials_manager)"
      ],
      "execution_count": null,
      "outputs": []
    },
    {
      "cell_type": "code",
      "metadata": {
        "id": "Vy0MEoNXgrGR"
      },
      "source": [
        "# Get the IDs for each playlist of the user\n",
        "\n",
        "userId = 'mdkyyoecyz3a2cxye8qjvt91l'\n",
        "playlistIds = []\n",
        "playlistNames = [] \n",
        "offset = 0\n",
        "\n",
        "userPlaylists1 = sp.user_playlists(userId, offset=0) # 0 - 49\n",
        "userPlaylists2 = sp.user_playlists(userId, offset=50) # 50 - 99\n",
        "userPlaylists3 = sp.user_playlists(userId, offset=100) # 100 - 102\n",
        "for item in userPlaylists1['items']:\n",
        "  playlistIds.append(item['id'])\n",
        "  playlistNames.append(item['name'])\n",
        "for item in userPlaylists2['items']:\n",
        "  playlistIds.append(item['id'])\n",
        "  playlistNames.append(item['name'])\n",
        "for item in userPlaylists3['items']:\n",
        "  playlistIds.append(item['id'])\n",
        "  playlistNames.append(item['name'])\n",
        "print(\"Playlists' ids:\", playlistIds)\n",
        "print(\"Playlists' names:\", playlistNames)\n",
        "print(\"No of Playlists:\", len(playlistNames))"
      ],
      "execution_count": null,
      "outputs": []
    },
    {
      "cell_type": "code",
      "metadata": {
        "id": "etKgbbgaqU1H"
      },
      "source": [
        "# Validate Spotify's playlists' names against dataset's albums' names\n",
        "# If it prints nothing, we are good to go\n",
        "\n",
        "datasetAlbumNames.sort()\n",
        "playlistNames.sort()\n",
        "\n",
        "for i in range(102):\n",
        "  if playlistNames[i] != datasetAlbumNames[i]:\n",
        "    print(\"Names [\", playlistNames[i], \"] and [\", datasetAlbumNames[i], \"] are not identical. Found on index:\", i)"
      ],
      "execution_count": null,
      "outputs": []
    },
    {
      "cell_type": "code",
      "metadata": {
        "id": "K5CG7LOfjUsS"
      },
      "source": [
        "# Get the IDs for each track of each playlist of the user\n",
        "\n",
        "user = 'mzouros'\n",
        "spotifyTrackIds = []\n",
        "spotifyTrackNames = []\n",
        "\n",
        "for id in playlistIds:\n",
        "  # Check size of the playlist\n",
        "  if sp.user_playlist_tracks(user, id)['total'] < 100:  \n",
        "    playlist = sp.user_playlist_tracks(user, id)\n",
        "    for item in playlist['items']:\n",
        "      track = item['track']\n",
        "      print(track['artists'][0]['name'], \"---\", track['name'], \"-\", track['id'])\n",
        "      spotifyTrackIds.append(track['id'])\n",
        "      spotifyTrackNames.append(track['name'])\n",
        "  elif sp.user_playlist_tracks(user, id)['total'] < 200:\n",
        "    offset = 0\n",
        "    for x in range(2):\n",
        "      playlist = sp.user_playlist_tracks(user, id, offset = offset)\n",
        "      for item in playlist['items']:\n",
        "        track = item['track']\n",
        "        print(track['artists'][0]['name'], \"---\", track['name'], \"-\", track['id'])\n",
        "        spotifyTrackIds.append(track['id'])\n",
        "        spotifyTrackNames.append(track['name'])\n",
        "      offset += 100\n",
        "  else:\n",
        "    offset = 0\n",
        "    for x in range(3):\n",
        "      playlist = sp.user_playlist_tracks(user, id, offset = offset)\n",
        "      for item in playlist['items']:\n",
        "        track = item['track']\n",
        "        print(track['artists'][0]['name'], \"---\", track['name'], \"-\", track['id'])\n",
        "        spotifyTrackIds.append(track['id'])\n",
        "        spotifyTrackNames.append(track['name'])\n",
        "      offset += 100\n",
        "\n",
        "print(len(spotifyTrackIds))"
      ],
      "execution_count": null,
      "outputs": []
    },
    {
      "cell_type": "code",
      "metadata": {
        "id": "DsGCAthjy0RH"
      },
      "source": [
        "# Validate Spotify's playlists' tracks' names against dataset's albums' tracks' names\n",
        "# If it prints zero, we are good to go\n",
        "\n",
        "missedCount = 0\n",
        "for track in datasetTrackNames: \n",
        "  track = track.replace(\"_\", \"/\") # song titles with \"slashes\" on Spotify are saved with \"underscore\" in our dataset\n",
        "  if track not in spotifyTrackNames:\n",
        "    missedCount += 1\n",
        "    print(track)\n",
        "print(missedCount)"
      ],
      "execution_count": null,
      "outputs": []
    },
    {
      "cell_type": "code",
      "metadata": {
        "id": "geIePSHbfnen"
      },
      "source": [
        "# Get Tracks Information and dump them to .csv\n",
        "\n",
        "tracks = []\n",
        "for id in spotifyTrackIds:\n",
        "  try:\n",
        "    meta = sp.track(id)\n",
        "    features = sp.audio_features(id)\n",
        "\n",
        "    # meta\n",
        "    name = meta['name']\n",
        "    album = meta['album']['name']\n",
        "    artist = meta['album']['artists'][0]['name']\n",
        "    release_date = meta['album']['release_date']\n",
        "    length = meta['duration_ms']\n",
        "    popularity = meta['popularity']\n",
        "\n",
        "    # features\n",
        "    acousticness = features[0]['acousticness']\n",
        "    danceability = features[0]['danceability']\n",
        "    energy = features[0]['energy']\n",
        "    valence = features[0]['valence']\n",
        "    instrumentalness = features[0]['instrumentalness']\n",
        "    liveness = features[0]['liveness']\n",
        "    loudness = features[0]['loudness']\n",
        "    speechiness = features[0]['speechiness']\n",
        "    tempo = features[0]['tempo']\n",
        "    time_signature = features[0]['time_signature']\n",
        "\n",
        "    track = [name, album, artist, release_date, length, popularity, danceability, acousticness, energy, valence, instrumentalness, liveness, loudness, speechiness, tempo, time_signature]\n",
        "    print(track)\n",
        "    tracks.append(track)\n",
        "  # We ensure that a faulty id or an empty JSON, won't crash the run  \n",
        "  except ValueError:\n",
        "    try:\n",
        "      print(\"JSONDecodeError\")\n",
        "    except NameError:\n",
        "      print(\"NameError\")\n",
        "\n",
        "# Create metadata/features .csv\n",
        "df = pd.DataFrame(tracks, columns = ['name', 'album', 'artist', 'release_date', 'length', 'popularity', 'danceability', 'acousticness', 'energy', 'valence', 'instrumentalness', 'liveness', 'loudness', 'speechiness', 'tempo', 'time_signature'])\n",
        "df.to_csv(\"Spotify_Tracks.csv\", sep = ',')"
      ],
      "execution_count": null,
      "outputs": []
    },
    {
      "cell_type": "code",
      "metadata": {
        "id": "RT81B6bWFKss"
      },
      "source": [
        "# .mp3 to .wav and export\n",
        "\n",
        "wavPath = '/home/mike/Artificial Intelligence MSc/2nd Semester/4. Deep Learning/WAV/'\n",
        "\n",
        "for folder in os.listdir(mp3Path):\n",
        "  songPath = mp3Path + '/' + folder\n",
        "  os.mkdir(wavPath+folder)\n",
        "  for song in os.listdir(songPath):\n",
        "    sound = AudioSegment.from_mp3(songPath+'/'+song)\n",
        "    sound.export(wavPath+folder+'/'+os.path.splitext(song)[0]+'.wav', format=\"wav\")"
      ],
      "execution_count": null,
      "outputs": []
    },
    {
      "cell_type": "markdown",
      "metadata": {
        "id": "NqPuWBG6pVOW"
      },
      "source": [
        "***We classify each song of our dataset to an emotion, according to the Valence-Arousal dimensional model***\n",
        "\n",
        "![](https://drive.google.com/uc?export=view&id=1zZapbxBgMSLfRKnqhn6qkR40ZBT2q3Pp)"
      ]
    },
    {
      "cell_type": "code",
      "metadata": {
        "colab": {
          "base_uri": "https://localhost:8080/"
        },
        "id": "K6-a9wHg6ZLv",
        "outputId": "ffdf1e62-f9b2-4b64-f657-69305ab79ebf"
      },
      "source": [
        "# Read Energy (Arousal) and Valence features from .csv and classify each song of the dataset according to the Valence-Arousal dimensional model\n",
        "\n",
        "spotify_tracks = '/home/mike/Artificial Intelligence MSc/2nd Semester/4. Deep Learning/Giannakopoulos/Exercises/Spotify_Tracks.csv'\n",
        "\n",
        "energyValenceValues = []\n",
        "artistTrackNames = []\n",
        "sentiments = []\n",
        "\n",
        "import csv\n",
        "with open(spotify_tracks) as csv_file:\n",
        "  csv_reader = csv.reader(csv_file, delimiter=',')\n",
        "  line_count = 0\n",
        "  for row in csv_reader:\n",
        "    if line_count == 0:\n",
        "      print ('  Energy  Valence')\n",
        "      line_count = 1\n",
        "    else:\n",
        "      energyValenceValues.append([float(row[9]), float(row[10])])\n",
        "      artistTrackNames.append([row[3], row[1]])\n",
        "energyValenceValues = np.array(energyValenceValues)\n",
        "artistTrackNames = np.array(artistTrackNames)\n",
        "\n",
        "excitedCount = 0\n",
        "happyCount = 0\n",
        "contentCount = 0\n",
        "calmCount = 0\n",
        "depressedCount = 0\n",
        "sadCount = 0\n",
        "afraidCount = 0\n",
        "angryCount = 0\n",
        "\n",
        "for x in energyValenceValues:\n",
        "  if x[0] >= 0.5 and x[1] >= 0.5 and x[0] >= x[1]:\n",
        "    sentiments.append('Excited')\n",
        "    excitedCount += 1\n",
        "  elif x[0] >= 0.5 and x[1] >= 0.5 and x[0] <= x[1]:\n",
        "    sentiments.append('Happy')\n",
        "    happyCount += 1\n",
        "  elif x[0] <= 0.5 and x[1] >= 0.5 and x[1] - (1 - x[0]) >= 0:\n",
        "    sentiments.append('Content')\n",
        "    contentCount += 1\n",
        "  elif x[0] <= 0.5 and x[1] >= 0.5 and x[1] - (1 - x[0]) <= 0:\n",
        "    sentiments.append('Calm')\n",
        "    calmCount += 1\n",
        "  elif x[0] <= 0.5 and x[1] <= 0.5 and x[0] >= x[1]:\n",
        "    sentiments.append('Sad')\n",
        "    depressedCount += 1\n",
        "  elif x[0] <= 0.5 and x[1] <= 0.5 and x[0] <= x[1]:\n",
        "    sentiments.append('Depressed')\n",
        "    sadCount += 1\n",
        "  elif x[0] >= 0.5 and x[1] <= 0.5 and x[0] - (1 - x[1]) <= 0:\n",
        "    sentiments.append('Afraid')\n",
        "    afraidCount += 1\n",
        "  else:\n",
        "    sentiments.append('Angry')\n",
        "    angryCount += 1\n",
        "\n",
        "sentiments = np.array(sentiments)\n",
        "\n",
        "print(energyValenceValues)\n",
        "print('')\n",
        "print(sentiments)"
      ],
      "execution_count": 26,
      "outputs": [
        {
          "output_type": "stream",
          "text": [
            "  Energy  Valence\n",
            "[[0.315  0.308 ]\n",
            " [0.844  0.968 ]\n",
            " [0.516  0.28  ]\n",
            " ...\n",
            " [0.707  0.132 ]\n",
            " [0.192  0.0519]\n",
            " [0.312  0.0808]]\n",
            "\n",
            "['Sad' 'Happy' 'Afraid' ... 'Afraid' 'Sad' 'Sad']\n"
          ],
          "name": "stdout"
        }
      ]
    },
    {
      "cell_type": "code",
      "metadata": {
        "colab": {
          "base_uri": "https://localhost:8080/",
          "height": 416
        },
        "id": "k3xHX7rNjSAD",
        "outputId": "7d0e81c7-bcd2-4964-a677-8510e550bd39"
      },
      "source": [
        "counts = np.array([excitedCount, happyCount, contentCount, calmCount, depressedCount, sadCount, afraidCount, angryCount])\n",
        "labels = [\"Excited\", \"Happy\", \"Content\", \"Calm\", \"Depressed\", \"Sad\", \"Afraid\", \"Angry\"]\n",
        "explode = (0, 0, 0, 0, 0.3, 0, 0, 0)\n",
        "\n",
        "fig1, ax1 = plt.subplots()\n",
        "ax1.pie(counts, explode=explode, labels=labels, autopct='%1.1f%%',\n",
        "        shadow=True, startangle=90, radius=1.4, counterclock=False)\n",
        "ax1.axis('equal')\n",
        "plt.show() \n",
        "\n",
        "print('')\n",
        "print('Excited:', excitedCount)\n",
        "print('Happy:', happyCount)\n",
        "print('Content:', contentCount)\n",
        "print('Calm:', calmCount)\n",
        "print('Depressed:', depressedCount)\n",
        "print('Sad:', sadCount)\n",
        "print('Afraid:', afraidCount)\n",
        "print('Angry:', angryCount)"
      ],
      "execution_count": 31,
      "outputs": [
        {
          "output_type": "display_data",
          "data": {
            "text/plain": [
              "<Figure size 432x288 with 1 Axes>"
            ],
            "image/png": "[encoded data removed]"
          },
          "metadata": {
            "tags": []
          }
        },
        {
          "output_type": "stream",
          "text": [
            "\n",
            "Excited: 463\n",
            "Happy: 991\n",
            "Content: 605\n",
            "Calm: 476\n",
            "Depressed: 1113\n",
            "Sad: 970\n",
            "Afraid: 341\n",
            "Angry: 270\n"
          ],
          "name": "stdout"
        }
      ]
    }
  ]
}