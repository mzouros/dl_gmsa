{
  "nbformat": 4,
  "nbformat_minor": 0,
  "metadata": {
    "colab": {
      "name": "Greek Music Sentiment Analysis",
      "provenance": [],
      "collapsed_sections": [],
      "authorship_tag": "ABX9TyME0HHc7LJovb0EBjom3IO8",
      "include_colab_link": true
    },
    "kernelspec": {
      "name": "python3",
      "display_name": "Python 3"
    },
    "language_info": {
      "name": "python"
    }
  },
  "cells": [
    {
      "cell_type": "markdown",
      "metadata": {
        "id": "view-in-github",
        "colab_type": "text"
      },
      "source": [
        "<a href=\"https://colab.research.google.com/github/mzouros/dl_gmsa/blob/main/Greek_Music_Sentiment_Analysis.ipynb\" target=\"_parent\"><img src=\"https://colab.research.google.com/assets/colab-badge.svg\" alt=\"Open In Colab\"/></a>"
      ]
    },
    {
      "cell_type": "markdown",
      "metadata": {
        "id": "XtSaV8sAn9jX"
      },
      "source": [
        "Run Colab localy\n",
        "\n",
        "jupyter notebook \\\n",
        "--NotebookApp.allow_origin='https://colab.research.google.com' \\\n",
        "--port=8888 \\\n",
        "--NotebookApp.port_retries=0"
      ]
    },
    {
      "cell_type": "code",
      "metadata": {
        "id": "nxSK36krk4Ru"
      },
      "source": [
        "# Imports\n",
        "\n",
        "import os\n",
        "import glob\n",
        "import spotipy\n",
        "from spotipy.oauth2 import SpotifyClientCredentials\n",
        "import pandas as pd\n",
        "import time\n",
        "import pandas as pd\n",
        "\n",
        "import errno"
      ],
      "execution_count": null,
      "outputs": []
    },
    {
      "cell_type": "code",
      "metadata": {
        "id": "onXq2h8GygRe"
      },
      "source": [
        "# Dataset size\n",
        "\n",
        "mp3Path = '/home/mike/Artificial Intelligence MSc/2nd Semester/4. Deep Learning/MP3'\n",
        "mp3Count = 0\n",
        "wmaCount = 0\n",
        "flacCount = 0\n",
        "datasetAlbumNames = [] \n",
        "datasetTrackNames = []\n",
        "\n",
        "for folder in os.listdir(mp3Path):\n",
        "  trackCount = 0\n",
        "  datasetAlbumNames.append(folder)\n",
        "  songPath = mp3Path + '/' + folder\n",
        "  for song in os.listdir(songPath):\n",
        "    if song.lower().endswith(\".mp3\".lower()):\n",
        "      # print(os.path.join(songPath, song))\n",
        "      mp3Count += 1\n",
        "    # for .wma  \n",
        "    else:\n",
        "      # print(os.path.join(songPath, song))\n",
        "      wmaCount += 1\n",
        "    datasetTrackNames.append(os.path.splitext(song)[0])\n",
        "    trackCount += 1\n",
        "  print(folder, trackCount)\n",
        "print(\"\")\n",
        "print(\"Total songs found:\", mp3Count+wmaCount+flacCount)"
      ],
      "execution_count": null,
      "outputs": []
    },
    {
      "cell_type": "code",
      "metadata": {
        "id": "A0Y_rui_gvTS"
      },
      "source": [
        "# Spotify Developer Credentials\n",
        "\n",
        "client_id = 'f1947444cbe9421e815b74a771326877'\n",
        "client_secret = 'a1099b60916440aabc9a24f1583bb73e'\n",
        "\n",
        "client_credentials_manager = SpotifyClientCredentials(client_id, client_secret)\n",
        "sp = spotipy.Spotify(client_credentials_manager=client_credentials_manager)"
      ],
      "execution_count": null,
      "outputs": []
    },
    {
      "cell_type": "code",
      "metadata": {
        "id": "Vy0MEoNXgrGR"
      },
      "source": [
        "# Get the IDs for each playlist of the user\n",
        "\n",
        "userId = 'mdkyyoecyz3a2cxye8qjvt91l'\n",
        "playlistIds = []\n",
        "playlistNames = [] \n",
        "offset = 0\n",
        "\n",
        "userPlaylists1 = sp.user_playlists(userId, offset=0) # 0 - 49\n",
        "userPlaylists2 = sp.user_playlists(userId, offset=50) # 50 - 99\n",
        "userPlaylists3 = sp.user_playlists(userId, offset=100) # 100 - 102\n",
        "for item in userPlaylists1['items']:\n",
        "  playlistIds.append(item['id'])\n",
        "  playlistNames.append(item['name'])\n",
        "for item in userPlaylists2['items']:\n",
        "  playlistIds.append(item['id'])\n",
        "  playlistNames.append(item['name'])\n",
        "for item in userPlaylists3['items']:\n",
        "  playlistIds.append(item['id'])\n",
        "  playlistNames.append(item['name'])\n",
        "print(\"Playlists' ids:\", playlistIds)\n",
        "print(\"Playlists' names:\", playlistNames)\n",
        "print(\"No of Playlists:\", len(playlistNames))"
      ],
      "execution_count": null,
      "outputs": []
    },
    {
      "cell_type": "code",
      "metadata": {
        "id": "etKgbbgaqU1H"
      },
      "source": [
        "# Validate Spotify's playlists' names against dataset's albums' names\n",
        "# If it prints nothing, we are good to go\n",
        "\n",
        "datasetAlbumNames.sort()\n",
        "playlistNames.sort()\n",
        "\n",
        "for i in range(102):\n",
        "  if playlistNames[i] != datasetAlbumNames[i]:\n",
        "    print(\"Names [\", playlistNames[i], \"] and [\", datasetAlbumNames[i], \"] are not identical. Found on index:\", i)"
      ],
      "execution_count": null,
      "outputs": []
    },
    {
      "cell_type": "code",
      "metadata": {
        "id": "K5CG7LOfjUsS"
      },
      "source": [
        "# Get the IDs for each track of each playlist of the user\n",
        "\n",
        "user = 'mzouros'\n",
        "spotifyTrackIds = []\n",
        "spotifyTrackNames = []\n",
        "\n",
        "for id in playlistIds:\n",
        "  # Check size of the playlist\n",
        "  if sp.user_playlist_tracks(user, id)['total'] < 100:  \n",
        "    playlist = sp.user_playlist_tracks(user, id)\n",
        "    for item in playlist['items']:\n",
        "      track = item['track']\n",
        "      print(track['artists'][0]['name'], \"---\", track['name'], \"-\", track['id'])\n",
        "      spotifyTrackIds.append(track['id'])\n",
        "      spotifyTrackNames.append(track['name'])\n",
        "  elif sp.user_playlist_tracks(user, id)['total'] < 200:\n",
        "    offset = 0\n",
        "    for x in range(2):\n",
        "      playlist = sp.user_playlist_tracks(user, id, offset = offset)\n",
        "      for item in playlist['items']:\n",
        "        track = item['track']\n",
        "        print(track['artists'][0]['name'], \"---\", track['name'], \"-\", track['id'])\n",
        "        spotifyTrackIds.append(track['id'])\n",
        "        spotifyTrackNames.append(track['name'])\n",
        "      offset += 100\n",
        "  else:\n",
        "    offset = 0\n",
        "    for x in range(3):\n",
        "      playlist = sp.user_playlist_tracks(user, id, offset = offset)\n",
        "      for item in playlist['items']:\n",
        "        track = item['track']\n",
        "        print(track['artists'][0]['name'], \"---\", track['name'], \"-\", track['id'])\n",
        "        spotifyTrackIds.append(track['id'])\n",
        "        spotifyTrackNames.append(track['name'])\n",
        "      offset += 100\n",
        "\n",
        "print(len(spotifyTrackIds))"
      ],
      "execution_count": null,
      "outputs": []
    },
    {
      "cell_type": "code",
      "metadata": {
        "id": "DsGCAthjy0RH"
      },
      "source": [
        "# Validate Spotify's playlists' tracks' names against dataset's albums' tracks' names\n",
        "# If it prints zero, we are good to go\n",
        "\n",
        "missedCount = 0\n",
        "for track in datasetTrackNames: \n",
        "  track = track.replace(\"_\", \"/\") # song titles with \"slashes\" on Spotify are saved with \"underscore\" in our dataset\n",
        "  if track not in spotifyTrackNames:\n",
        "    missedCount += 1\n",
        "    print(track)\n",
        "print(missedCount)"
      ],
      "execution_count": null,
      "outputs": []
    },
    {
      "cell_type": "code",
      "metadata": {
        "id": "geIePSHbfnen"
      },
      "source": [
        "# Get Tracks Information and dump them to .csv\n",
        "\n",
        "tracks = []\n",
        "for id in spotifyTrackIds:\n",
        "  try:\n",
        "    meta = sp.track(id)\n",
        "    features = sp.audio_features(id)\n",
        "\n",
        "    # meta\n",
        "    name = meta['name']\n",
        "    album = meta['album']['name']\n",
        "    artist = meta['album']['artists'][0]['name']\n",
        "    release_date = meta['album']['release_date']\n",
        "    length = meta['duration_ms']\n",
        "    popularity = meta['popularity']\n",
        "\n",
        "    # features\n",
        "    acousticness = features[0]['acousticness']\n",
        "    danceability = features[0]['danceability']\n",
        "    energy = features[0]['energy']\n",
        "    instrumentalness = features[0]['instrumentalness']\n",
        "    liveness = features[0]['liveness']\n",
        "    loudness = features[0]['loudness']\n",
        "    speechiness = features[0]['speechiness']\n",
        "    tempo = features[0]['tempo']\n",
        "    time_signature = features[0]['time_signature']\n",
        "\n",
        "    track = [name, album, artist, release_date, length, popularity, danceability, acousticness, energy, instrumentalness, liveness, loudness, speechiness, tempo, time_signature]\n",
        "    print(track)\n",
        "    tracks.append(track)\n",
        "  # We ensure that a faulty id or an empty JSON, won't crash the run  \n",
        "  except ValueError:\n",
        "    try:\n",
        "      print(\"JSONDecodeError\")\n",
        "    except NameError:\n",
        "      print(\"NameError\")\n",
        "\n",
        "# Create metadata/features .csv\n",
        "df = pd.DataFrame(tracks, columns = ['name', 'album', 'artist', 'release_date', 'length', 'popularity', 'danceability', 'acousticness', 'energy', 'instrumentalness', 'liveness', 'loudness', 'speechiness', 'tempo', 'time_signature'])\n",
        "df.to_csv(\"Spotify_Tracks.csv\", sep = ',')"
      ],
      "execution_count": null,
      "outputs": []
    }
  ]
}