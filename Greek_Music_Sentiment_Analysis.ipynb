{
  "nbformat": 4,
  "nbformat_minor": 0,
  "metadata": {
    "colab": {
      "name": "Greek Music Sentiment Analysis",
      "provenance": [],
      "collapsed_sections": [],
      "include_colab_link": true
    },
    "kernelspec": {
      "name": "python3",
      "display_name": "Python 3"
    },
    "language_info": {
      "name": "python"
    }
  },
  "cells": [
    {
      "cell_type": "markdown",
      "metadata": {
        "id": "view-in-github",
        "colab_type": "text"
      },
      "source": [
        "<a href=\"https://colab.research.google.com/github/mzouros/dl_gmsa/blob/main/Greek_Music_Sentiment_Analysis.ipynb\" target=\"_parent\"><img src=\"https://colab.research.google.com/assets/colab-badge.svg\" alt=\"Open In Colab\"/></a>"
      ]
    },
    {
      "cell_type": "code",
      "metadata": {
        "id": "onXq2h8GygRe"
      },
      "source": [
        "import os\n",
        "import glob\n",
        "  \n",
        "mp3Path = '/home/mike/Artificial Intelligence MSc/2nd Semester/4. Deep Learning/MP3'\n",
        "count = 0\n",
        "\n",
        "for root, dirs, files in os.walk(mp3Path):\n",
        "    for file in files:\n",
        "        if file.endswith(\".mp3\") or file.endswith(\".MP3\"):\n",
        "             print(os.path.join(root, file))\n",
        "             count += 1\n",
        "print(\"Total songs found:\", count)\n"
      ],
      "execution_count": null,
      "outputs": []
    }
  ]
}